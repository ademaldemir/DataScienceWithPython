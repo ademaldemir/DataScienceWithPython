{
  "nbformat": 4,
  "nbformat_minor": 0,
  "metadata": {
    "colab": {
      "name": "Real_Estate_Pricing_Prediction.ipynb",
      "provenance": [],
      "mount_file_id": "1AVLAOznQwK_H6YbxNZv9A1wzYHCRX9eF",
      "authorship_tag": "ABX9TyNCM3FdpAyZcAedJGc8GFYR",
      "include_colab_link": true
    },
    "kernelspec": {
      "name": "python3",
      "display_name": "Python 3"
    }
  },
  "cells": [
    {
      "cell_type": "markdown",
      "metadata": {
        "id": "view-in-github",
        "colab_type": "text"
      },
      "source": [
        "<a href=\"https://colab.research.google.com/github/ademaldemir/DataScienceWithPython/blob/main/Real_Estate_Pricing_Prediction.ipynb\" target=\"_parent\"><img src=\"https://colab.research.google.com/assets/colab-badge.svg\" alt=\"Open In Colab\"/></a>"
      ]
    },
    {
      "cell_type": "code",
      "metadata": {
        "id": "myVn_WJauxTS"
      },
      "source": [
        "# import the libraries\n",
        "\n",
        "import pandas as pd\n",
        "import numpy as np\n",
        "\n",
        "from sklearn.model_selection import train_test_split\n",
        "from sklearn.preprocessing import MinMaxScaler\n",
        "from sklearn.linear_model import LinearRegression\n",
        "from sklearn.metrics import mean_squared_error, mean_absolute_error"
      ],
      "execution_count": 1,
      "outputs": []
    },
    {
      "cell_type": "code",
      "metadata": {
        "id": "rRolpZX4-nkC"
      },
      "source": [
        "# Read data from CSV file\n",
        "df = pd.read_csv('/content/drive/My Drive/Master Courses/Data Science with Python/Lecture 5 /real_estate.csv')"
      ],
      "execution_count": 10,
      "outputs": []
    },
    {
      "cell_type": "code",
      "metadata": {
        "id": "N_0D8IaN-3Cu",
        "outputId": "6b68fd01-bdb5-418b-ce2e-801ee74241f3",
        "colab": {
          "base_uri": "https://localhost:8080/",
          "height": 204
        }
      },
      "source": [
        "# Show the first 5 rows\n",
        "df.head()"
      ],
      "execution_count": 3,
      "outputs": [
        {
          "output_type": "execute_result",
          "data": {
            "text/html": [
              "<div>\n",
              "<style scoped>\n",
              "    .dataframe tbody tr th:only-of-type {\n",
              "        vertical-align: middle;\n",
              "    }\n",
              "\n",
              "    .dataframe tbody tr th {\n",
              "        vertical-align: top;\n",
              "    }\n",
              "\n",
              "    .dataframe thead th {\n",
              "        text-align: right;\n",
              "    }\n",
              "</style>\n",
              "<table border=\"1\" class=\"dataframe\">\n",
              "  <thead>\n",
              "    <tr style=\"text-align: right;\">\n",
              "      <th></th>\n",
              "      <th>No</th>\n",
              "      <th>X1 transaction date</th>\n",
              "      <th>X2 house age</th>\n",
              "      <th>X3 distance to the nearest MRT station</th>\n",
              "      <th>X4 number of convenience stores</th>\n",
              "      <th>X5 latitude</th>\n",
              "      <th>X6 longitude</th>\n",
              "      <th>Y house price of unit area</th>\n",
              "    </tr>\n",
              "  </thead>\n",
              "  <tbody>\n",
              "    <tr>\n",
              "      <th>0</th>\n",
              "      <td>1</td>\n",
              "      <td>2012.917</td>\n",
              "      <td>32.0</td>\n",
              "      <td>84.87882</td>\n",
              "      <td>10</td>\n",
              "      <td>24.98298</td>\n",
              "      <td>121.54024</td>\n",
              "      <td>37.9</td>\n",
              "    </tr>\n",
              "    <tr>\n",
              "      <th>1</th>\n",
              "      <td>2</td>\n",
              "      <td>2012.917</td>\n",
              "      <td>19.5</td>\n",
              "      <td>306.59470</td>\n",
              "      <td>9</td>\n",
              "      <td>24.98034</td>\n",
              "      <td>121.53951</td>\n",
              "      <td>42.2</td>\n",
              "    </tr>\n",
              "    <tr>\n",
              "      <th>2</th>\n",
              "      <td>3</td>\n",
              "      <td>2013.583</td>\n",
              "      <td>13.3</td>\n",
              "      <td>561.98450</td>\n",
              "      <td>5</td>\n",
              "      <td>24.98746</td>\n",
              "      <td>121.54391</td>\n",
              "      <td>47.3</td>\n",
              "    </tr>\n",
              "    <tr>\n",
              "      <th>3</th>\n",
              "      <td>4</td>\n",
              "      <td>2013.500</td>\n",
              "      <td>13.3</td>\n",
              "      <td>561.98450</td>\n",
              "      <td>5</td>\n",
              "      <td>24.98746</td>\n",
              "      <td>121.54391</td>\n",
              "      <td>54.8</td>\n",
              "    </tr>\n",
              "    <tr>\n",
              "      <th>4</th>\n",
              "      <td>5</td>\n",
              "      <td>2012.833</td>\n",
              "      <td>5.0</td>\n",
              "      <td>390.56840</td>\n",
              "      <td>5</td>\n",
              "      <td>24.97937</td>\n",
              "      <td>121.54245</td>\n",
              "      <td>43.1</td>\n",
              "    </tr>\n",
              "  </tbody>\n",
              "</table>\n",
              "</div>"
            ],
            "text/plain": [
              "   No  X1 transaction date  ...  X6 longitude  Y house price of unit area\n",
              "0   1             2012.917  ...     121.54024                        37.9\n",
              "1   2             2012.917  ...     121.53951                        42.2\n",
              "2   3             2013.583  ...     121.54391                        47.3\n",
              "3   4             2013.500  ...     121.54391                        54.8\n",
              "4   5             2012.833  ...     121.54245                        43.1\n",
              "\n",
              "[5 rows x 8 columns]"
            ]
          },
          "metadata": {
            "tags": []
          },
          "execution_count": 3
        }
      ]
    },
    {
      "cell_type": "code",
      "metadata": {
        "id": "lpD_-LEg-50r",
        "outputId": "96a88bce-e90a-49c2-bfe0-738d45537483",
        "colab": {
          "base_uri": "https://localhost:8080/"
        }
      },
      "source": [
        "# Check the rows with missing values (if any)\n",
        "df.isnull().sum()\n",
        "# df.dropna(inplace=True)"
      ],
      "execution_count": 4,
      "outputs": [
        {
          "output_type": "execute_result",
          "data": {
            "text/plain": [
              "No                                        0\n",
              "X1 transaction date                       0\n",
              "X2 house age                              0\n",
              "X3 distance to the nearest MRT station    0\n",
              "X4 number of convenience stores           0\n",
              "X5 latitude                               0\n",
              "X6 longitude                              0\n",
              "Y house price of unit area                0\n",
              "dtype: int64"
            ]
          },
          "metadata": {
            "tags": []
          },
          "execution_count": 4
        }
      ]
    },
    {
      "cell_type": "code",
      "metadata": {
        "id": "LgwxuX08_BHK",
        "outputId": "a7596733-bcdb-4726-dd9d-75ef94c431b0",
        "colab": {
          "base_uri": "https://localhost:8080/"
        }
      },
      "source": [
        "# Print the number of rows (instances) and columns (features)\n",
        "df.shape"
      ],
      "execution_count": 5,
      "outputs": [
        {
          "output_type": "execute_result",
          "data": {
            "text/plain": [
              "(414, 8)"
            ]
          },
          "metadata": {
            "tags": []
          },
          "execution_count": 5
        }
      ]
    },
    {
      "cell_type": "code",
      "metadata": {
        "id": "eV_kLz17_E2v",
        "outputId": "1a427580-29ec-46db-c646-f3c43e7cee37",
        "colab": {
          "base_uri": "https://localhost:8080/",
          "height": 297
        }
      },
      "source": [
        "# Find the correlation between features (hints: pearson correlation)\n",
        "df.corr(method='pearson')"
      ],
      "execution_count": 6,
      "outputs": [
        {
          "output_type": "execute_result",
          "data": {
            "text/html": [
              "<div>\n",
              "<style scoped>\n",
              "    .dataframe tbody tr th:only-of-type {\n",
              "        vertical-align: middle;\n",
              "    }\n",
              "\n",
              "    .dataframe tbody tr th {\n",
              "        vertical-align: top;\n",
              "    }\n",
              "\n",
              "    .dataframe thead th {\n",
              "        text-align: right;\n",
              "    }\n",
              "</style>\n",
              "<table border=\"1\" class=\"dataframe\">\n",
              "  <thead>\n",
              "    <tr style=\"text-align: right;\">\n",
              "      <th></th>\n",
              "      <th>No</th>\n",
              "      <th>X1 transaction date</th>\n",
              "      <th>X2 house age</th>\n",
              "      <th>X3 distance to the nearest MRT station</th>\n",
              "      <th>X4 number of convenience stores</th>\n",
              "      <th>X5 latitude</th>\n",
              "      <th>X6 longitude</th>\n",
              "      <th>Y house price of unit area</th>\n",
              "    </tr>\n",
              "  </thead>\n",
              "  <tbody>\n",
              "    <tr>\n",
              "      <th>No</th>\n",
              "      <td>1.000000</td>\n",
              "      <td>-0.048658</td>\n",
              "      <td>-0.032808</td>\n",
              "      <td>-0.013573</td>\n",
              "      <td>-0.012699</td>\n",
              "      <td>-0.010110</td>\n",
              "      <td>-0.011059</td>\n",
              "      <td>-0.028587</td>\n",
              "    </tr>\n",
              "    <tr>\n",
              "      <th>X1 transaction date</th>\n",
              "      <td>-0.048658</td>\n",
              "      <td>1.000000</td>\n",
              "      <td>0.017549</td>\n",
              "      <td>0.060880</td>\n",
              "      <td>0.009635</td>\n",
              "      <td>0.035058</td>\n",
              "      <td>-0.041082</td>\n",
              "      <td>0.087491</td>\n",
              "    </tr>\n",
              "    <tr>\n",
              "      <th>X2 house age</th>\n",
              "      <td>-0.032808</td>\n",
              "      <td>0.017549</td>\n",
              "      <td>1.000000</td>\n",
              "      <td>0.025622</td>\n",
              "      <td>0.049593</td>\n",
              "      <td>0.054420</td>\n",
              "      <td>-0.048520</td>\n",
              "      <td>-0.210567</td>\n",
              "    </tr>\n",
              "    <tr>\n",
              "      <th>X3 distance to the nearest MRT station</th>\n",
              "      <td>-0.013573</td>\n",
              "      <td>0.060880</td>\n",
              "      <td>0.025622</td>\n",
              "      <td>1.000000</td>\n",
              "      <td>-0.602519</td>\n",
              "      <td>-0.591067</td>\n",
              "      <td>-0.806317</td>\n",
              "      <td>-0.673613</td>\n",
              "    </tr>\n",
              "    <tr>\n",
              "      <th>X4 number of convenience stores</th>\n",
              "      <td>-0.012699</td>\n",
              "      <td>0.009635</td>\n",
              "      <td>0.049593</td>\n",
              "      <td>-0.602519</td>\n",
              "      <td>1.000000</td>\n",
              "      <td>0.444143</td>\n",
              "      <td>0.449099</td>\n",
              "      <td>0.571005</td>\n",
              "    </tr>\n",
              "    <tr>\n",
              "      <th>X5 latitude</th>\n",
              "      <td>-0.010110</td>\n",
              "      <td>0.035058</td>\n",
              "      <td>0.054420</td>\n",
              "      <td>-0.591067</td>\n",
              "      <td>0.444143</td>\n",
              "      <td>1.000000</td>\n",
              "      <td>0.412924</td>\n",
              "      <td>0.546307</td>\n",
              "    </tr>\n",
              "    <tr>\n",
              "      <th>X6 longitude</th>\n",
              "      <td>-0.011059</td>\n",
              "      <td>-0.041082</td>\n",
              "      <td>-0.048520</td>\n",
              "      <td>-0.806317</td>\n",
              "      <td>0.449099</td>\n",
              "      <td>0.412924</td>\n",
              "      <td>1.000000</td>\n",
              "      <td>0.523287</td>\n",
              "    </tr>\n",
              "    <tr>\n",
              "      <th>Y house price of unit area</th>\n",
              "      <td>-0.028587</td>\n",
              "      <td>0.087491</td>\n",
              "      <td>-0.210567</td>\n",
              "      <td>-0.673613</td>\n",
              "      <td>0.571005</td>\n",
              "      <td>0.546307</td>\n",
              "      <td>0.523287</td>\n",
              "      <td>1.000000</td>\n",
              "    </tr>\n",
              "  </tbody>\n",
              "</table>\n",
              "</div>"
            ],
            "text/plain": [
              "                                              No  ...  Y house price of unit area\n",
              "No                                      1.000000  ...                   -0.028587\n",
              "X1 transaction date                    -0.048658  ...                    0.087491\n",
              "X2 house age                           -0.032808  ...                   -0.210567\n",
              "X3 distance to the nearest MRT station -0.013573  ...                   -0.673613\n",
              "X4 number of convenience stores        -0.012699  ...                    0.571005\n",
              "X5 latitude                            -0.010110  ...                    0.546307\n",
              "X6 longitude                           -0.011059  ...                    0.523287\n",
              "Y house price of unit area             -0.028587  ...                    1.000000\n",
              "\n",
              "[8 rows x 8 columns]"
            ]
          },
          "metadata": {
            "tags": []
          },
          "execution_count": 6
        }
      ]
    },
    {
      "cell_type": "code",
      "metadata": {
        "id": "l7C_T7kU_H2S"
      },
      "source": [
        "# Eliminate the two features least correlated to the other features\n",
        "df.drop(['No', 'X1 transaction date'], axis=1, inplace=True)"
      ],
      "execution_count": 11,
      "outputs": []
    },
    {
      "cell_type": "code",
      "metadata": {
        "id": "Y5DgZO4c_WO2",
        "outputId": "b327f061-edae-4749-8c21-6cb9997ea8a8",
        "colab": {
          "base_uri": "https://localhost:8080/",
          "height": 204
        }
      },
      "source": [
        "# Print the first 5 rows again\n",
        "df.head()"
      ],
      "execution_count": 9,
      "outputs": [
        {
          "output_type": "execute_result",
          "data": {
            "text/html": [
              "<div>\n",
              "<style scoped>\n",
              "    .dataframe tbody tr th:only-of-type {\n",
              "        vertical-align: middle;\n",
              "    }\n",
              "\n",
              "    .dataframe tbody tr th {\n",
              "        vertical-align: top;\n",
              "    }\n",
              "\n",
              "    .dataframe thead th {\n",
              "        text-align: right;\n",
              "    }\n",
              "</style>\n",
              "<table border=\"1\" class=\"dataframe\">\n",
              "  <thead>\n",
              "    <tr style=\"text-align: right;\">\n",
              "      <th></th>\n",
              "      <th>X2 house age</th>\n",
              "      <th>X3 distance to the nearest MRT station</th>\n",
              "      <th>X4 number of convenience stores</th>\n",
              "      <th>X5 latitude</th>\n",
              "      <th>X6 longitude</th>\n",
              "      <th>Y house price of unit area</th>\n",
              "    </tr>\n",
              "  </thead>\n",
              "  <tbody>\n",
              "    <tr>\n",
              "      <th>0</th>\n",
              "      <td>32.0</td>\n",
              "      <td>84.87882</td>\n",
              "      <td>10</td>\n",
              "      <td>24.98298</td>\n",
              "      <td>121.54024</td>\n",
              "      <td>37.9</td>\n",
              "    </tr>\n",
              "    <tr>\n",
              "      <th>1</th>\n",
              "      <td>19.5</td>\n",
              "      <td>306.59470</td>\n",
              "      <td>9</td>\n",
              "      <td>24.98034</td>\n",
              "      <td>121.53951</td>\n",
              "      <td>42.2</td>\n",
              "    </tr>\n",
              "    <tr>\n",
              "      <th>2</th>\n",
              "      <td>13.3</td>\n",
              "      <td>561.98450</td>\n",
              "      <td>5</td>\n",
              "      <td>24.98746</td>\n",
              "      <td>121.54391</td>\n",
              "      <td>47.3</td>\n",
              "    </tr>\n",
              "    <tr>\n",
              "      <th>3</th>\n",
              "      <td>13.3</td>\n",
              "      <td>561.98450</td>\n",
              "      <td>5</td>\n",
              "      <td>24.98746</td>\n",
              "      <td>121.54391</td>\n",
              "      <td>54.8</td>\n",
              "    </tr>\n",
              "    <tr>\n",
              "      <th>4</th>\n",
              "      <td>5.0</td>\n",
              "      <td>390.56840</td>\n",
              "      <td>5</td>\n",
              "      <td>24.97937</td>\n",
              "      <td>121.54245</td>\n",
              "      <td>43.1</td>\n",
              "    </tr>\n",
              "  </tbody>\n",
              "</table>\n",
              "</div>"
            ],
            "text/plain": [
              "   X2 house age  ...  Y house price of unit area\n",
              "0          32.0  ...                        37.9\n",
              "1          19.5  ...                        42.2\n",
              "2          13.3  ...                        47.3\n",
              "3          13.3  ...                        54.8\n",
              "4           5.0  ...                        43.1\n",
              "\n",
              "[5 rows x 6 columns]"
            ]
          },
          "metadata": {
            "tags": []
          },
          "execution_count": 9
        }
      ]
    },
    {
      "cell_type": "code",
      "metadata": {
        "id": "of3e7TAx_YiU",
        "outputId": "167633ea-472e-4d26-ceed-3a5c2d29ba20",
        "colab": {
          "base_uri": "https://localhost:8080/",
          "height": 281
        }
      },
      "source": [
        "# Draw histogram of the data\n",
        "df.hist(bins=50);\n",
        "#Number of histogram bins to be used. If an integer is given, bins + 1 bin edges are calculated and returned. \n",
        "#If bins is a sequence, gives bin edges, \n",
        "#including left edge of first bin and right edge of last bin. In this case, bins is returned unmodified."
      ],
      "execution_count": 13,
      "outputs": [
        {
          "output_type": "display_data",
          "data": {
            "image/png": "[encoded data removed]",
            "text/plain": [
              "<Figure size 432x288 with 6 Axes>"
            ]
          },
          "metadata": {
            "tags": [],
            "needs_background": "light"
          }
        }
      ]
    },
    {
      "cell_type": "code",
      "metadata": {
        "id": "74Dc2bqS_lfM",
        "outputId": "655109fd-ce2b-433b-81be-3d20167c98e0",
        "colab": {
          "base_uri": "https://localhost:8080/",
          "height": 265
        }
      },
      "source": [
        "# Plot the one feature as a probability density function\n",
        "df['X2 house age'].plot(kind='density', color='Red');"
      ],
      "execution_count": 14,
      "outputs": [
        {
          "output_type": "display_data",
          "data": {
            "image/png": "[encoded data removed]",
            "text/plain": [
              "<Figure size 432x288 with 1 Axes>"
            ]
          },
          "metadata": {
            "tags": [],
            "needs_background": "light"
          }
        }
      ]
    },
    {
      "cell_type": "code",
      "metadata": {
        "id": "sk-p7iwp_xRR"
      },
      "source": [
        "# Split the data to independent variables & dependent variable\n",
        "x = df.iloc[:,0:5].values\n",
        "y = df.iloc[:,-1].values"
      ],
      "execution_count": 15,
      "outputs": []
    },
    {
      "cell_type": "code",
      "metadata": {
        "id": "KTIFusPO_23o"
      },
      "source": [
        "# Split the data to training and test sets\n",
        "x_train, x_test, y_train, y_test = train_test_split(x, y, test_size=0.2, random_state=147)"
      ],
      "execution_count": 16,
      "outputs": []
    },
    {
      "cell_type": "code",
      "metadata": {
        "id": "ZzD3am0a_8Zx",
        "outputId": "65b9b7b5-7f61-460c-9f81-fcae63b58b2d",
        "colab": {
          "base_uri": "https://localhost:8080/"
        }
      },
      "source": [
        "# Print the number of instances in training & test set\n",
        "print(x_train.shape)\n",
        "print(x_test.shape)"
      ],
      "execution_count": 17,
      "outputs": [
        {
          "output_type": "stream",
          "text": [
            "(331, 5)\n",
            "(83, 5)\n"
          ],
          "name": "stdout"
        }
      ]
    },
    {
      "cell_type": "code",
      "metadata": {
        "id": "2pI2MTPu__03",
        "outputId": "c9907fc9-6482-4de9-ca2b-327239e6919f",
        "colab": {
          "base_uri": "https://localhost:8080/"
        }
      },
      "source": [
        "# Initialize min-max scaler and transform each feature by using min-max scaler\n",
        "# You need to put the feature values to a certain range (in general: (0, 1)) in order to stabilize the model\n",
        "scaler = MinMaxScaler(feature_range=(0, 1))\n",
        "x_train = scaler.fit_transform(x_train)\n",
        "x_train"
      ],
      "execution_count": 18,
      "outputs": [
        {
          "output_type": "execute_result",
          "data": {
            "text/plain": [
              "array([[0.04683841, 0.31772964, 0.3       , 0.45599305, 0.42872547],\n",
              "       [0.75644028, 0.01339018, 1.        , 0.7201795 , 0.72600819],\n",
              "       [0.07259953, 0.05576175, 0.5       , 0.70613781, 0.75889584],\n",
              "       ...,\n",
              "       [0.06088993, 0.23680632, 0.3       , 0.55283729, 0.46247574],\n",
              "       [0.63466042, 0.67898343, 0.1       , 0.26418645, 0.24088851],\n",
              "       [0.42388759, 0.27221897, 0.3       , 0.51013318, 0.44565452]])"
            ]
          },
          "metadata": {
            "tags": []
          },
          "execution_count": 18
        }
      ]
    },
    {
      "cell_type": "code",
      "metadata": {
        "id": "u_V7XlB0BD34",
        "outputId": "a883ca8b-8bc1-4d91-a95b-f2aa8ebacae5",
        "colab": {
          "base_uri": "https://localhost:8080/"
        }
      },
      "source": [
        "# Print the first row of training data\n",
        "x_train[0]"
      ],
      "execution_count": 19,
      "outputs": [
        {
          "output_type": "execute_result",
          "data": {
            "text/plain": [
              "array([0.04683841, 0.31772964, 0.3       , 0.45599305, 0.42872547])"
            ]
          },
          "metadata": {
            "tags": []
          },
          "execution_count": 19
        }
      ]
    },
    {
      "cell_type": "code",
      "metadata": {
        "id": "yNALwU_5BKS_"
      },
      "source": [
        "# Initialize the linear regression model\n",
        "model = LinearRegression()"
      ],
      "execution_count": 20,
      "outputs": []
    },
    {
      "cell_type": "code",
      "metadata": {
        "id": "iiMwok7lBMV9",
        "outputId": "ea6f61eb-a582-4099-dad7-8dec30c6d824",
        "colab": {
          "base_uri": "https://localhost:8080/"
        }
      },
      "source": [
        "# Fit the training data to the model\n",
        "model.fit(x_train, y_train)\n",
        "model.coef_"
      ],
      "execution_count": 21,
      "outputs": [
        {
          "output_type": "execute_result",
          "data": {
            "text/plain": [
              "array([-11.41546636, -27.72027383,   9.92809326,  18.14598691,\n",
              "        -0.52042007])"
            ]
          },
          "metadata": {
            "tags": []
          },
          "execution_count": 21
        }
      ]
    },
    {
      "cell_type": "code",
      "metadata": {
        "id": "NsPrQzsiBRpU",
        "outputId": "a57e17b6-bfb5-4a26-a5f6-7881b6f12ed4",
        "colab": {
          "base_uri": "https://localhost:8080/"
        }
      },
      "source": [
        "# Print the general formula of our linear regression model\n",
        "_str = \"y = \"\n",
        "for i, m in enumerate(model.coef_):\n",
        "    _str += \"x_{}*({})+\".format(i+1, m)\n",
        "_str += str(model.intercept_)\n",
        "print(_str)"
      ],
      "execution_count": 23,
      "outputs": [
        {
          "output_type": "stream",
          "text": [
            "y = x_1*(-11.415466361050509)+x_2*(-27.720273827351203)+x_3*(9.928093263967398)+x_4*(18.145986910991528)+x_5*(-0.5204200712795819)+33.996897407161704\n"
          ],
          "name": "stdout"
        }
      ]
    },
    {
      "cell_type": "code",
      "metadata": {
        "id": "UB3Ekq6DBdEy",
        "outputId": "ee04fd63-5a02-4c52-f91e-3bc8a4ad828d",
        "colab": {
          "base_uri": "https://localhost:8080/"
        }
      },
      "source": [
        "# Scale each feature to range(0, 1)\n",
        "x_test = scaler.transform(x_test)\n",
        "x_test"
      ],
      "execution_count": 24,
      "outputs": [
        {
          "output_type": "execute_result",
          "data": {
            "text/plain": [
              "array([[0.05854801, 0.02055202, 0.4       , 0.50506659, 0.71587233],\n",
              "       [0.42154567, 0.97186726, 0.1       , 0.3671106 , 0.01757602],\n",
              "       [1.02576112, 0.00529134, 0.7       , 0.51288361, 0.72417511],\n",
              "       [0.31850117, 0.62782047, 0.        , 0.13723219, 0.32650421],\n",
              "       [0.        , 0.03876962, 0.1       , 0.61855819, 0.61526849],\n",
              "       [0.09133489, 0.00406492, 0.8       , 0.38057325, 0.69042484],\n",
              "       [0.30444965, 0.07252509, 0.5       , 0.47886508, 0.68837611],\n",
              "       [0.93208431, 0.09193563, 0.2       , 0.63259988, 0.66012508],\n",
              "       [0.15456674, 0.0103754 , 0.9       , 0.61175449, 0.75016174],\n",
              "       [0.50819672, 0.15958885, 0.        , 0.43485814, 0.81679965],\n",
              "       [0.29039813, 0.26130607, 0.2       , 0.46395483, 0.46549493],\n",
              "       [0.30444965, 0.07252509, 0.5       , 0.47886508, 0.68837611],\n",
              "       [0.47540984, 0.04087153, 0.6       , 0.69991314, 0.74131982],\n",
              "       [0.1147541 , 0.05636654, 0.9       , 0.71091488, 0.69387535],\n",
              "       [0.69320843, 0.1154002 , 0.7       , 0.73451071, 0.65290058],\n",
              "       [0.29508197, 0.05567174, 0.7       , 0.51071222, 0.76676731],\n",
              "       [0.33021077, 0.04113795, 0.5       , 0.72321946, 0.75425922],\n",
              "       [0.73770492, 0.84902744, 0.1       , 0.27330631, 0.11915031],\n",
              "       [0.1498829 , 0.0103754 , 0.9       , 0.61175449, 0.75016174],\n",
              "       [0.81498829, 0.02355067, 0.8       , 0.59930515, 0.74595644],\n",
              "       [0.16627635, 0.06618483, 0.5       , 0.63057325, 0.79156782],\n",
              "       [0.29274005, 0.17341313, 0.4       , 0.86407064, 0.65807634],\n",
              "       [0.04449649, 0.05394823, 0.7       , 0.59148813, 0.71953849],\n",
              "       [0.62763466, 0.0710597 , 0.5       , 0.61175449, 0.70196248],\n",
              "       [0.31850117, 0.07252509, 0.5       , 0.47886508, 0.68837611],\n",
              "       [0.37236534, 0.22806074, 0.3       , 0.54950782, 0.46829847],\n",
              "       [0.41451991, 0.05065537, 0.1       , 0.62782281, 0.62173819],\n",
              "       [0.06323185, 0.07890517, 0.4       , 0.6134916 , 0.79922364],\n",
              "       [0.76346604, 0.07274563, 0.7       , 0.54444123, 0.77302135],\n",
              "       [0.76580796, 0.05708952, 0.6       , 0.4619282 , 0.74369204],\n",
              "       [0.68618267, 0.22653784, 0.2       , 0.62753329, 0.47153332],\n",
              "       [0.70725995, 0.06942255, 0.3       , 0.54979734, 0.6906405 ],\n",
              "       [0.81264637, 0.0710597 , 0.5       , 0.61175449, 0.70196248],\n",
              "       [0.80562061, 0.07570482, 0.6       , 0.80211349, 0.74919129],\n",
              "       [0.19906323, 0.0125958 , 0.5       , 0.50188188, 0.72395946],\n",
              "       [0.3559719 , 0.06770971, 0.5       , 0.32107701, 0.71565667],\n",
              "       [0.35362998, 0.05567174, 0.7       , 0.51071222, 0.76676731],\n",
              "       [0.69320843, 0.0792224 , 0.8       , 0.70715113, 0.67931852],\n",
              "       [0.74238876, 0.17573623, 0.        , 0.25376375, 0.61084753],\n",
              "       [0.96721311, 0.01571756, 0.6       , 0.50188188, 0.72094026],\n",
              "       [0.32318501, 0.62782047, 0.        , 0.13723219, 0.32650421],\n",
              "       [0.31147541, 0.07252509, 0.5       , 0.47886508, 0.68837611],\n",
              "       [0.13114754, 0.0103754 , 0.9       , 0.61175449, 0.75016174],\n",
              "       [0.        , 0.04170612, 0.6       , 0.65677475, 0.76612034],\n",
              "       [0.23419204, 0.14217092, 0.        , 0.67110596, 0.54485659],\n",
              "       [0.44262295, 0.1524992 , 0.        , 0.45599305, 0.81927971],\n",
              "       [0.02576112, 0.0263281 , 0.6       , 0.48697163, 0.72633168],\n",
              "       [0.3676815 , 0.12259751, 0.4       , 0.67733063, 0.65893897],\n",
              "       [0.41217799, 0.12596845, 0.        , 0.45266358, 0.79943929],\n",
              "       [0.31850117, 0.64566122, 0.        , 0.09814708, 0.32671986],\n",
              "       [0.47306792, 0.33439538, 0.3       , 0.45092646, 0.41880526],\n",
              "       [0.72599532, 0.17526567, 0.        , 0.24363057, 0.61915031],\n",
              "       [0.32552693, 0.62741874, 0.        , 1.19455704, 0.48123787],\n",
              "       [0.48946136, 0.33439538, 0.3       , 0.45092646, 0.41880526],\n",
              "       [0.32318501, 0.62782047, 0.        , 0.13723219, 0.32650421],\n",
              "       [0.08430913, 0.05421124, 1.        , 0.74044586, 0.6913953 ],\n",
              "       [0.735363  , 0.2202603 , 0.3       , 0.59033005, 0.47196463],\n",
              "       [0.        , 0.03876962, 0.1       , 0.61855819, 0.61526849],\n",
              "       [0.09367681, 0.32855561, 0.3       , 0.44759699, 0.42387319],\n",
              "       [0.7236534 , 0.98580926, 0.1       , 0.16907933, 0.05714902],\n",
              "       [0.3793911 , 0.32177704, 0.3       , 0.41039375, 0.44306664],\n",
              "       [0.39578454, 0.14561786, 0.4       , 0.82006369, 0.65322407],\n",
              "       [0.09367681, 0.32855561, 0.3       , 0.44759699, 0.42387319],\n",
              "       [0.66510539, 0.09189371, 0.3       , 0.65706427, 0.64114729],\n",
              "       [0.77283372, 0.02439328, 0.9       , 0.64997105, 0.74498598],\n",
              "       [0.33255269, 0.27505966, 0.1       , 0.28170237, 0.85195169],\n",
              "       [0.42154567, 0.21524084, 0.1       , 0.28590041, 0.81237869],\n",
              "       [0.42388759, 0.12596845, 0.        , 0.45266358, 0.79943929],\n",
              "       [0.91803279, 0.06208087, 0.7       , 0.61117545, 0.70778521],\n",
              "       [0.40749415, 0.15041407, 0.        , 0.44846555, 0.81539789],\n",
              "       [0.90163934, 0.09926012, 0.3       , 0.62188767, 0.68352383],\n",
              "       [0.51990632, 0.05509584, 1.        , 0.74348581, 0.69107181],\n",
              "       [0.95784543, 0.01531084, 0.8       , 0.51375217, 0.74153548],\n",
              "       [0.38407494, 0.05668361, 0.6       , 0.46395483, 0.74617209],\n",
              "       [0.18266979, 0.0125958 , 0.5       , 0.50188188, 0.72395946],\n",
              "       [0.4824356 , 0.37840666, 0.4       , 0.41994789, 0.39821005],\n",
              "       [0.38641686, 0.04644841, 0.6       , 0.67081644, 0.74703472],\n",
              "       [0.1381733 , 0.0103754 , 0.9       , 0.61175449, 0.75016174],\n",
              "       [0.83840749, 0.02279296, 0.7       , 0.50839606, 0.74574078],\n",
              "       [0.25761124, 0.29511693, 0.2       , 0.45715113, 0.44403709],\n",
              "       [0.8852459 , 0.08779244, 0.1       , 0.57122177, 0.66918266],\n",
              "       [0.04918033, 0.06618483, 0.5       , 0.63057325, 0.79156782],\n",
              "       [0.4028103 , 0.33296437, 0.3       , 0.44817603, 0.42063834]])"
            ]
          },
          "metadata": {
            "tags": []
          },
          "execution_count": 24
        }
      ]
    },
    {
      "cell_type": "code",
      "metadata": {
        "id": "DBzor7j5BoII",
        "outputId": "ffd9bdae-53c5-4242-f209-03b164b6c88e",
        "colab": {
          "base_uri": "https://localhost:8080/"
        }
      },
      "source": [
        "# Print the first row of test data\n",
        "x_test[0]"
      ],
      "execution_count": 25,
      "outputs": [
        {
          "output_type": "execute_result",
          "data": {
            "text/plain": [
              "array([0.05854801, 0.02055202, 0.4       , 0.50506659, 0.71587233])"
            ]
          },
          "metadata": {
            "tags": []
          },
          "execution_count": 25
        }
      ]
    },
    {
      "cell_type": "code",
      "metadata": {
        "id": "L-Ca6-MwBsaD"
      },
      "source": [
        "# Predict the values by using all test data\n",
        "y_pred = model.predict(x_test)"
      ],
      "execution_count": 26,
      "outputs": []
    },
    {
      "cell_type": "code",
      "metadata": {
        "id": "Wys9O64VB1Ju",
        "outputId": "b05eef33-64cf-4eb6-dafb-6b0763d2863c",
        "colab": {
          "base_uri": "https://localhost:8080/",
          "height": 35
        }
      },
      "source": [
        "# Print the predicted and the actual value of the first row in test set\n",
        "\"Predicted: {}, Actual: {}\".format(y_pred[1], y_test[1])"
      ],
      "execution_count": 27,
      "outputs": [
        {
          "output_type": "execute_result",
          "data": {
            "application/vnd.google.colaboratory.intrinsic+json": {
              "type": "string"
            },
            "text/plain": [
              "'Predicted: 9.889577006674443, Actual: 15.0'"
            ]
          },
          "metadata": {
            "tags": []
          },
          "execution_count": 27
        }
      ]
    },
    {
      "cell_type": "code",
      "metadata": {
        "id": "FVhD1TnWB7Mj",
        "outputId": "d32a6b54-1bc3-48fc-8f25-625c0f0ea0ae",
        "colab": {
          "base_uri": "https://localhost:8080/"
        }
      },
      "source": [
        "# Calculate the score of the model in test data\n",
        "score = model.score(x_test, y_test)\n",
        "print(score)"
      ],
      "execution_count": 28,
      "outputs": [
        {
          "output_type": "stream",
          "text": [
            "0.6410674664708822\n"
          ],
          "name": "stdout"
        }
      ]
    },
    {
      "cell_type": "code",
      "metadata": {
        "id": "cApyHca1CBUL",
        "outputId": "92747f85-895f-4f18-a9ae-27104c218673",
        "colab": {
          "base_uri": "https://localhost:8080/"
        }
      },
      "source": [
        "# Calculate mean squared error of predicted values\n",
        "mse = mean_squared_error(y_test, y_pred)\n",
        "print(mse)"
      ],
      "execution_count": 29,
      "outputs": [
        {
          "output_type": "stream",
          "text": [
            "65.85474357820151\n"
          ],
          "name": "stdout"
        }
      ]
    },
    {
      "cell_type": "code",
      "metadata": {
        "id": "1KLSnPxCCGS-",
        "outputId": "74579f6f-8abf-4a2c-97f9-bf91bcd2ab74",
        "colab": {
          "base_uri": "https://localhost:8080/"
        }
      },
      "source": [
        "# Calculate absolute squared error of predicted values\n",
        "mae = mean_absolute_error(y_test, y_pred)\n",
        "print(mae)"
      ],
      "execution_count": 30,
      "outputs": [
        {
          "output_type": "stream",
          "text": [
            "6.426730639068006\n"
          ],
          "name": "stdout"
        }
      ]
    },
    {
      "cell_type": "code",
      "metadata": {
        "id": "PcJJtErkCJNr"
      },
      "source": [
        "# Save the model\n",
        "import pickle\n",
        "with open(\"./lr_model_score{}_mse{}_mae{}.pkl\".format(score, mse, mae), \"wb\") as f:\n",
        "    pickle.dump(model, f)"
      ],
      "execution_count": 31,
      "outputs": []
    },
    {
      "cell_type": "code",
      "metadata": {
        "id": "lVa8s7s_CNOa"
      },
      "source": [
        ""
      ],
      "execution_count": null,
      "outputs": []
    }
  ]
}